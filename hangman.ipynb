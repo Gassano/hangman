{
 "cells": [
  {
   "cell_type": "code",
   "execution_count": null,
   "metadata": {},
   "outputs": [
    {
     "name": "stdout",
     "output_type": "stream",
     "text": [
      "ハングマンへようこそ\n",
      "\n",
      "\n",
      "１文字を予想してねa\n",
      "_ a _ _\n",
      "\n",
      "\n",
      "\n",
      "１文字を予想してねa\n",
      "_ a a _\n",
      "\n",
      "\n",
      "\n"
     ]
    }
   ],
   "source": [
    "def hangman(word):\n",
    "    wrong=0\n",
    "    stages=[\"\",\n",
    "           \"______________            \",\n",
    "           \"|                         \",\n",
    "           \"|             |           \",\n",
    "           \"|             O           \",\n",
    "           \"|            /|_          \",\n",
    "           \"|            /|_          \",\n",
    "           \"|                         \",\n",
    "           ]\n",
    "    rletters=list(word)\n",
    "    board=[\"_\"]*len(word)\n",
    "    win=False\n",
    "    print(\"ハングマンへようこそ\")\n",
    "    while wrong <len(stages)-1:\n",
    "        print(\"\\n\")\n",
    "        msg=\"１文字を予想してね\"\n",
    "        char=input(msg)\n",
    "        if char in rletters:\n",
    "            cind=rletters.index(char)\n",
    "            board[cind]=char\n",
    "            rletters[cind]='$'\n",
    "        else:\n",
    "            wrong+=1\n",
    "        print(\" \".join(board))\n",
    "        e=wrong+1\n",
    "        print(\"\\n\".join(stages[0:e]))\n",
    "        if \"_\" not in board:\n",
    "            print(\"あなたの勝ち\")\n",
    "            print(\" \".join(board))\n",
    "            win=True\n",
    "            break\n",
    "    if not win:\n",
    "        print(\"\\n\".join(stages[0:wrong+1]))\n",
    "        print(\"あなたの負け。正解は{}\".format(word))\n",
    "\n",
    "hangman(\"caat\")"
   ]
  },
  {
   "cell_type": "raw",
   "metadata": {},
   "source": []
  }
 ],
 "metadata": {
  "kernelspec": {
   "display_name": "Python 3",
   "language": "python",
   "name": "python3"
  },
  "language_info": {
   "codemirror_mode": {
    "name": "ipython",
    "version": 3
   },
   "file_extension": ".py",
   "mimetype": "text/x-python",
   "name": "python",
   "nbconvert_exporter": "python",
   "pygments_lexer": "ipython3",
   "version": "3.7.7"
  }
 },
 "nbformat": 4,
 "nbformat_minor": 4
}
